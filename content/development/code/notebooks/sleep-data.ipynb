{
 "cells": [
  {
   "cell_type": "raw",
   "id": "16ca827e-4fe8-4c2f-9d2f-8d095c78454d",
   "metadata": {},
   "source": [
    "---\n",
    "title: Sleep Data\n",
    "description: Load sleep data into PostgreSQL collected from the Sleep Cycle phone app\n",
    "image: \"/static/development/sleep.png\"\n",
    "---"
   ]
  },
  {
   "cell_type": "markdown",
   "id": "2db49f02-eba6-4979-98ee-187e546d89b8",
   "metadata": {},
   "source": [
    "[Sleep Cycle](https://www.sleepcycle.com/)"
   ]
  },
  {
   "cell_type": "code",
   "execution_count": 1,
   "id": "b6cc3944-1019-422f-bc53-4926569d4ee9",
   "metadata": {},
   "outputs": [],
   "source": [
    "import os\n",
    "import re\n",
    "import pandas as pd\n",
    "import psycopg2\n",
    "from sqlalchemy import create_engine"
   ]
  },
  {
   "cell_type": "code",
   "execution_count": null,
   "id": "5f34f5d8-d7b6-44cf-87b8-43e5422d8aa4",
   "metadata": {},
   "outputs": [],
   "source": [
    "sleepdata = \"./data/sleepdata.csv\""
   ]
  },
  {
   "cell_type": "markdown",
   "id": "eb2ff71a-0b0a-4614-8198-b9d0368df509",
   "metadata": {},
   "source": [
    "## Database credentials"
   ]
  },
  {
   "cell_type": "code",
   "execution_count": 3,
   "id": "5235cbfe-a0e8-4ab6-8e08-72a15caec13a",
   "metadata": {},
   "outputs": [],
   "source": [
    "with open(\"../../postgres.txt\", \"r\") as f:\n",
    "    user, pwd = [s.strip() for s in f.readlines()]"
   ]
  },
  {
   "cell_type": "markdown",
   "id": "d78d87f1-71e0-4dde-a8e0-42b7366974ba",
   "metadata": {},
   "source": [
    "## Create DataFrame"
   ]
  },
  {
   "cell_type": "code",
   "execution_count": 4,
   "id": "6c2f662c-8691-4c1e-8ce1-1bf1d5993be5",
   "metadata": {},
   "outputs": [
    {
     "data": {
      "text/plain": [
       "Start                           object\n",
       "End                             object\n",
       "Sleep Quality                   object\n",
       "Regularity                      object\n",
       "Mood                           float64\n",
       "Heart rate (bpm)                 int64\n",
       "Steps                            int64\n",
       "Alarm mode                      object\n",
       "Air Pressure (Pa)              float64\n",
       "City                            object\n",
       "Movements per hour             float64\n",
       "Time in bed (seconds)          float64\n",
       "Time asleep (seconds)          float64\n",
       "Time before sleep (seconds)    float64\n",
       "Window start                    object\n",
       "Window stop                     object\n",
       "Did snore                         bool\n",
       "Snore time                     float64\n",
       "Weather temperature (°F)       float64\n",
       "Weather type                    object\n",
       "Notes                           object\n",
       "dtype: object"
      ]
     },
     "execution_count": 4,
     "metadata": {},
     "output_type": "execute_result"
    }
   ],
   "source": [
    "df = pd.read_csv(sleepdata, delimiter=';')\n",
    "df.dtypes"
   ]
  },
  {
   "cell_type": "markdown",
   "id": "ddaacc41-8a29-4aea-8bbe-abafd162ae12",
   "metadata": {},
   "source": [
    "## Create DB Safe Column Names"
   ]
  },
  {
   "cell_type": "code",
   "execution_count": 5,
   "id": "67f3f7de-4abf-46bc-9cf7-0150ddd74367",
   "metadata": {},
   "outputs": [
    {
     "data": {
      "text/plain": [
       "Index(['start', 'end', 'sleep_quality', 'regularity', 'mood', 'heart_rate_bpm',\n",
       "       'steps', 'alarm_mode', 'air_pressure_pa', 'city', 'movements_per_hour',\n",
       "       'time_in_bed_seconds', 'time_asleep_seconds',\n",
       "       'time_before_sleep_seconds', 'window_start', 'window_stop', 'did_snore',\n",
       "       'snore_time', 'weather_temperature_f', 'weather_type', 'notes'],\n",
       "      dtype='object')"
      ]
     },
     "execution_count": 5,
     "metadata": {},
     "output_type": "execute_result"
    }
   ],
   "source": [
    "nonword_pattern = re.compile(r\"[^\\w]\")\n",
    "spacing_pattern = re.compile(r\"[_]{2,}\")\n",
    "ending_pattern = re.compile(r\"_$\")\n",
    "df.columns = [\n",
    "    re.sub(\n",
    "        ending_pattern,\n",
    "        \"\",\n",
    "        re.sub(spacing_pattern, \"_\", re.sub(nonword_pattern, \"_\", col)),\n",
    "    ).lower()\n",
    "    for col in df.columns\n",
    "]\n",
    "df.columns"
   ]
  },
  {
   "cell_type": "code",
   "execution_count": 6,
   "id": "29b9102c-a3c0-487a-b3ef-bd613d6be628",
   "metadata": {},
   "outputs": [
    {
     "data": {
      "text/plain": [
       "509"
      ]
     },
     "execution_count": 6,
     "metadata": {},
     "output_type": "execute_result"
    }
   ],
   "source": [
    "db_host = 'localhost'\n",
    "db_table = 'sleepdata'\n",
    "db_name = 'personal'\n",
    "    \n",
    "engine = create_engine(f'postgresql://{user}:{pwd}@{db_host}/{db_name}')\n",
    "\n",
    "df.to_sql(f\"{db_table}\", engine, if_exists='replace', index=False)"
   ]
  }
 ],
 "metadata": {
  "kernelspec": {
   "display_name": "Python 3 (ipykernel)",
   "language": "python",
   "name": "python3"
  },
  "language_info": {
   "codemirror_mode": {
    "name": "ipython",
    "version": 3
   },
   "file_extension": ".py",
   "mimetype": "text/x-python",
   "name": "python",
   "nbconvert_exporter": "python",
   "pygments_lexer": "ipython3",
   "version": "3.11.4"
  }
 },
 "nbformat": 4,
 "nbformat_minor": 5
}
