{
 "cells": [
  {
   "cell_type": "raw",
   "id": "9ebb169a-ae4c-4465-a225-6d6c59fba2c5",
   "metadata": {},
   "source": [
    "---\n",
    "title: Logging\n",
    "description: Basics of the standard library logging module\n",
    "image: \"/static/development/logging.png\"\n",
    "---"
   ]
  },
  {
   "cell_type": "markdown",
   "id": "80ae7bb0-0922-4954-acb2-df53deb262fd",
   "metadata": {},
   "source": [
    "```text\n",
    ".\n",
    "├── script.py\n",
    "└── my_library\n",
    "    ├── __init__.py\n",
    "    ├── module.py\n",
    "    └── submodule.py\n",
    "```"
   ]
  },
  {
   "cell_type": "markdown",
   "id": "ce561e5b-510c-48e2-8fd7-4653747d5306",
   "metadata": {},
   "source": [
    "## script.py"
   ]
  },
  {
   "cell_type": "code",
   "execution_count": 1,
   "id": "c26ce687-e31b-4434-85ee-e48292c08416",
   "metadata": {},
   "outputs": [
    {
     "name": "stderr",
     "output_type": "stream",
     "text": [
      "2022-12-17 06:03:54 : 0441 : __main__ : INFO : Begin my test module\n",
      "2022-12-17 06:03:54 : 0443 : __main__ : INFO : Log message from main function in module.py\n",
      "2022-12-17 06:03:54 : 0444 : __main__ : INFO : Hello from submodule.py in function bar()\n"
     ]
    }
   ],
   "source": [
    "import os\n",
    "import logging\n",
    "from datetime import datetime\n",
    "\n",
    "from my_library import module\n",
    "\n",
    "# Do not specify __name__ to use root log level\n",
    "logger = logging.getLogger(__name__)\n",
    "logger.setLevel(logging.INFO)\n",
    "formatter = logging.Formatter(\n",
    "    \"%(asctime)s : %(msecs)04d : %(name)s : %(levelname)s : %(message)s\",\n",
    "    datefmt=\"%Y-%m-%d %H:%M:%S\",\n",
    ")\n",
    "log_file = f\"log_{datetime.now().strftime('%Y-%m-%d_%H%M%S')}.log\"\n",
    "stream_handler = logging.StreamHandler()\n",
    "stream_handler.setFormatter(formatter)\n",
    "file_handler = logging.FileHandler(filename=log_file)\n",
    "file_handler.setFormatter(formatter)\n",
    "logger.addHandler(stream_handler)\n",
    "logger.addHandler(file_handler)\n",
    "logger.info(\"Begin my test module\")\n",
    "\n",
    "module.main()\n",
    "\n",
    "os.remove(log_file)"
   ]
  },
  {
   "cell_type": "markdown",
   "id": "ea67c1b7-96cf-4c00-bbd5-204089c0b471",
   "metadata": {},
   "source": [
    "## module.py"
   ]
  },
  {
   "cell_type": "markdown",
   "id": "3388a92f-6996-49db-9a56-d85ff1ae393d",
   "metadata": {},
   "source": [
    "```python\n",
    "import logging\n",
    "from my_library import submodule\n",
    "\n",
    "def main():\n",
    "    logger = logging.getLogger(\"__main__\")\n",
    "    logger.info(\"Log message from main function in module.py\")\n",
    "    submodule.bar()\n",
    "\n",
    "if __name__ == \"__main__\":\n",
    "    main()\n",
    "```"
   ]
  },
  {
   "cell_type": "markdown",
   "id": "9b0b2c38-e0c7-489b-a70a-1f44f7e5b055",
   "metadata": {},
   "source": [
    "## submodule.py"
   ]
  },
  {
   "cell_type": "markdown",
   "id": "36705e3c-cc06-48a0-8b80-b46f7ade1c52",
   "metadata": {},
   "source": [
    "```python\n",
    "import logging\n",
    "\n",
    "def bar():\n",
    "    logger = logging.getLogger()\n",
    "    logger.info(\"Hello from submodule.py in function bar()\")\n",
    "```"
   ]
  }
 ],
 "metadata": {
  "kernelspec": {
   "display_name": "Python 3 (ipykernel)",
   "language": "python",
   "name": "python3"
  },
  "language_info": {
   "codemirror_mode": {
    "name": "ipython",
    "version": 3
   },
   "file_extension": ".py",
   "mimetype": "text/x-python",
   "name": "python",
   "nbconvert_exporter": "python",
   "pygments_lexer": "ipython3",
   "version": "3.11.4"
  }
 },
 "nbformat": 4,
 "nbformat_minor": 5
}
