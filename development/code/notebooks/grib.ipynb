{
 "cells": [
  {
   "cell_type": "raw",
   "metadata": {},
   "source": [
    "---\n",
    "title: GRIB\n",
    "description: Manipulating gridded datasets\n",
    "image: \"/static/development/grib.png\"\n",
    "---"
   ]
  },
  {
   "cell_type": "code",
   "execution_count": 1,
   "metadata": {},
   "outputs": [],
   "source": [
    "#! /usr/bin/env python3\n",
    "#\n",
    "#\n",
    "#   Purpose:\n",
    "#       Test manipulation of .grb2 files from NOAA WAVEWATCH III hindcast repo\n",
    "#\n",
    "#   Notes:\n",
    "#       1. pygrib is not compatible with Windows.\n",
    "#       2. GRIB = General Regularly distributed Information in Binary form\n",
    "#           GRIB is a binary format of gridded data.\n",
    "#       3. WAVEWATCH III: https://polar.ncep.noaa.gov/waves/hindcasts/nopp-phase2.php\n",
    "#       3. pygrib docs: https://jswhit.github.io/pygrib/api.html#example-usage\n",
    "#\n",
    "#   Author(s):\n",
    "#       Caleb Grant\n",
    "#\n",
    "#   Revision History\n",
    "#   Date        Reason\n",
    "#   ----------------------------\n",
    "#   2021-09-23  Created. CG.\n",
    "# ==========================================="
   ]
  },
  {
   "cell_type": "code",
   "execution_count": 2,
   "metadata": {},
   "outputs": [
    {
     "ename": "ModuleNotFoundError",
     "evalue": "No module named 'pygrib'",
     "output_type": "error",
     "traceback": [
      "\u001b[0;31m---------------------------------------------------------------------------\u001b[0m",
      "\u001b[0;31mModuleNotFoundError\u001b[0m                       Traceback (most recent call last)",
      "Cell \u001b[0;32mIn[2], line 6\u001b[0m\n\u001b[1;32m      3\u001b[0m \u001b[38;5;28;01mimport\u001b[39;00m \u001b[38;5;21;01mdatetime\u001b[39;00m\n\u001b[1;32m      5\u001b[0m \u001b[38;5;66;03m# Third party packages\u001b[39;00m\n\u001b[0;32m----> 6\u001b[0m \u001b[38;5;28;01mimport\u001b[39;00m \u001b[38;5;21;01mpygrib\u001b[39;00m\n\u001b[1;32m      7\u001b[0m \u001b[38;5;28;01mimport\u001b[39;00m \u001b[38;5;21;01mnumpy\u001b[39;00m \u001b[38;5;28;01mas\u001b[39;00m \u001b[38;5;21;01mnp\u001b[39;00m\n\u001b[1;32m      9\u001b[0m \u001b[38;5;66;03m# Make output of plotting commands display inline with notebook\u001b[39;00m\n",
      "\u001b[0;31mModuleNotFoundError\u001b[0m: No module named 'pygrib'"
     ]
    }
   ],
   "source": [
    "# Standard libraries\n",
    "import os\n",
    "import datetime\n",
    "\n",
    "# Third party packages\n",
    "import pygrib\n",
    "import numpy as np\n",
    "\n",
    "# Make output of plotting commands display inline with notebook\n",
    "%matplotlib inline\n",
    "import matplotlib.pyplot as plt\n",
    "from mpl_toolkits.basemap import Basemap"
   ]
  },
  {
   "cell_type": "markdown",
   "metadata": {},
   "source": [
    "# Test scenario"
   ]
  },
  {
   "cell_type": "code",
   "execution_count": 3,
   "metadata": {},
   "outputs": [],
   "source": [
    "data_dir = os.path.join('data', '200901')\n",
    "# U-component of input wind, V-component of input wind (m/s).\n",
    "# Vector described by these components shows direction in which whind blows\n",
    "wind_grb_file = \"multi_reanal.ecg_10m.wind.200901.grb2\"\n",
    "wind_grb_obj = pygrib.open(os.path.join(data_dir, wind_grb_file))\n",
    "# Significant height of combined wind waves and swell (m)\n",
    "hs_grb_file = \"multi_reanal.ecg_10m.hs.200901.grb2\"\n",
    "hs_grb_obj = pygrib.open(os.path.join(data_dir, hs_grb_file))\n",
    "# Primary wave mean period (s)\n",
    "tp_grb_file = \"multi_reanal.ecg_10m.tp.200901.grb2\"\n",
    "tp_grb_obj = pygrib.open(os.path.join(data_dir, tp_grb_file))\n",
    "# Primary wave direction (degrees true, i.e. 0 deg = coming from North, 90 deg = coming from East)\n",
    "dp_grb_file = \"multi_reanal.ecg_10m.dp.200901.grb2\"\n",
    "dp_grb_obj = pygrib.open(os.path.join(data_dir, dp_grb_file))"
   ]
  },
  {
   "cell_type": "markdown",
   "metadata": {},
   "source": [
    "## Object methods"
   ]
  },
  {
   "cell_type": "code",
   "execution_count": 4,
   "metadata": {},
   "outputs": [
    {
     "name": "stdout",
     "output_type": "stream",
     "text": [
      "['__call__', '__class__', '__delattr__', '__dir__', '__doc__', '__enter__', '__eq__', '__exit__', '__format__', '__ge__', '__getattribute__', '__getitem__', '__gt__', '__hash__', '__init__', '__init_subclass__', '__iter__', '__le__', '__lt__', '__ne__', '__new__', '__next__', '__reduce__', '__reduce_ex__', '__repr__', '__setattr__', '__setstate__', '__sizeof__', '__str__', '__subclasshook__', '_advance', 'close', 'closed', 'has_multi_field_msgs', 'message', 'messagenumber', 'messages', 'name', 'read', 'readline', 'rewind', 'seek', 'select', 'tell']\n"
     ]
    }
   ],
   "source": [
    "print(dir(dp_grb_obj))"
   ]
  },
  {
   "cell_type": "markdown",
   "metadata": {},
   "source": [
    "## GRIB Object keys"
   ]
  },
  {
   "cell_type": "code",
   "execution_count": 5,
   "metadata": {},
   "outputs": [
    {
     "name": "stdout",
     "output_type": "stream",
     "text": [
      "['GRIBEditionNumber', 'NV', 'Ni', 'Nj', 'PLPresent', 'PVPresent', 'alternativeRowScanning', 'analDate', 'angleDivisor', 'angleMultiplier', 'angleSubdivisions', 'average', 'backgroundProcess', 'basicAngleOfTheInitialProductionDomain', 'binaryScaleFactor', 'bitMapIndicator', 'bitmapPresent', 'bitsPerValue', 'bottomLevel', 'centre', 'centreDescription', 'cfName', 'cfNameECMF', 'cfVarName', 'cfVarNameECMF', 'changeDecimalPrecision', 'codedValues', 'dataDate', 'dataRepresentationTemplateNumber', 'dataTime', 'day', 'decimalPrecision', 'decimalScaleFactor', 'deleteCalendarId', 'deleteLocalDefinition', 'deletePV', 'discipline', 'distinctLatitudes', 'distinctLongitudes', 'editionNumber', 'endStep', 'forecastTime', 'g2grid', 'genVertHeightCoords', 'generatingProcessIdentifier', 'getNumberOfValues', 'globalDomain', 'grib2LocalSectionPresent', 'grib2divider', 'gridDefinitionDescription', 'gridDefinitionTemplateNumber', 'gridDescriptionSectionPresent', 'gridType', 'hour', 'hoursAfterDataCutoff', 'iDirectionIncrement', 'iDirectionIncrementGiven', 'iDirectionIncrementInDegrees', 'iScansNegatively', 'iScansPositively', 'identifier', 'ieeeFloats', 'ifsParam', 'ijDirectionIncrementGiven', 'indicatorOfUnitOfTimeRange', 'interpretationOfNumberOfPoints', 'isConstant', 'isHindcast', 'is_aerosol', 'is_aerosol_optical', 'is_chemical', 'is_chemical_distfn', 'is_efas', 'is_uerra', 'jDirectionIncrement', 'jDirectionIncrementGiven', 'jDirectionIncrementInDegrees', 'jPointsAreConsecutive', 'jScansPositively', 'julianDay', 'kurtosis', 'latLonValues', 'latitudeOfFirstGridPoint', 'latitudeOfFirstGridPointInDegrees', 'latitudeOfLastGridPoint', 'latitudeOfLastGridPointInDegrees', 'latitudes', 'lengthOfHeaders', 'level', 'localTablesVersion', 'longitudeOfFirstGridPoint', 'longitudeOfFirstGridPointInDegrees', 'longitudeOfLastGridPoint', 'longitudeOfLastGridPointInDegrees', 'longitudes', 'mAngleMultiplier', 'mBasicAngle', 'masterDir', 'maximum', 'md5Headers', 'md5Section1', 'md5Section3', 'md5Section4', 'md5Section5', 'md5Section6', 'md5Section7', 'minimum', 'minute', 'minutesAfterDataCutoff', 'missingValue', 'modelName', 'month', 'name', 'nameECMF', 'nameOfFirstFixedSurface', 'nameOfSecondFixedSurface', 'neitherPresent', 'numberOfDataPoints', 'numberOfMissing', 'numberOfOctectsForNumberOfPoints', 'numberOfSection', 'numberOfSection', 'numberOfSection', 'numberOfSection', 'numberOfSection', 'numberOfSection', 'numberOfValues', 'offsetValuesBy', 'optimizeScaleFactor', 'packingType', 'paramId', 'paramIdECMF', 'parameterCategory', 'parameterName', 'parameterNumber', 'parameterUnits', 'pressureUnits', 'productDefinitionTemplateNumber', 'productType', 'productionStatusOfProcessedData', 'radius', 'referenceValue', 'referenceValueError', 'resolutionAndComponentFlags', 'resolutionAndComponentFlags1', 'resolutionAndComponentFlags2', 'resolutionAndComponentFlags6', 'resolutionAndComponentFlags7', 'resolutionAndComponentFlags8', 'scaleFactorOfEarthMajorAxis', 'scaleFactorOfEarthMinorAxis', 'scaleFactorOfFirstFixedSurface', 'scaleFactorOfRadiusOfSphericalEarth', 'scaleFactorOfSecondFixedSurface', 'scaleValuesBy', 'scaledValueOfEarthMajorAxis', 'scaledValueOfEarthMinorAxis', 'scaledValueOfFirstFixedSurface', 'scaledValueOfRadiusOfSphericalEarth', 'scaledValueOfSecondFixedSurface', 'scanningMode', 'scanningMode5', 'scanningMode6', 'scanningMode7', 'scanningMode8', 'second', 'section0Length', 'section1Length', 'section3Length', 'section4Length', 'section5Length', 'section6Length', 'section7Length', 'section8Length', 'sectionNumber', 'sectionNumber', 'sectionNumber', 'sectionNumber', 'sectionNumber', 'sectionNumber', 'sectionNumber', 'selectStepTemplateInstant', 'selectStepTemplateInterval', 'setBitsPerValue', 'setCalendarId', 'shapeOfTheEarth', 'shortName', 'shortNameECMF', 'significanceOfReferenceTime', 'skewness', 'sourceOfGridDefinition', 'standardDeviation', 'startStep', 'stepRange', 'stepType', 'stepTypeInternal', 'stepUnits', 'subCentre', 'subdivisionsOfBasicAngle', 'tablesVersion', 'tablesVersionLatest', 'targetCompressionRatio', 'tempPressureUnits', 'topLevel', 'totalLength', 'typeOfCompressionUsed', 'typeOfFirstFixedSurface', 'typeOfGeneratingProcess', 'typeOfLevel', 'typeOfOriginalFieldValues', 'typeOfProcessedData', 'typeOfSecondFixedSurface', 'units', 'unitsECMF', 'unitsOfFirstFixedSurface', 'unitsOfSecondFixedSurface', 'uvRelativeToGrid', 'validDate', 'validityDate', 'validityTime', 'values', 'year']\n"
     ]
    }
   ],
   "source": [
    "print(sorted(dp_grb_obj[1].keys()))"
   ]
  },
  {
   "cell_type": "markdown",
   "metadata": {},
   "source": [
    "## Test value arrays"
   ]
  },
  {
   "cell_type": "code",
   "execution_count": 6,
   "metadata": {},
   "outputs": [
    {
     "name": "stdout",
     "output_type": "stream",
     "text": [
      "(249, 331, 301) 0.0 9999.0\n"
     ]
    }
   ],
   "source": [
    "values = np.array([grb.values for grb in hs_grb_obj])\n",
    "print(values.shape, values.min(), values.max())"
   ]
  },
  {
   "cell_type": "code",
   "execution_count": 7,
   "metadata": {},
   "outputs": [
    {
     "name": "stdout",
     "output_type": "stream",
     "text": [
      "['T', '__abs__', '__add__', '__and__', '__array__', '__array_finalize__', '__array_function__', '__array_interface__', '__array_prepare__', '__array_priority__', '__array_struct__', '__array_ufunc__', '__array_wrap__', '__bool__', '__class__', '__complex__', '__contains__', '__copy__', '__deepcopy__', '__delattr__', '__delitem__', '__dir__', '__divmod__', '__doc__', '__eq__', '__float__', '__floordiv__', '__format__', '__ge__', '__getattribute__', '__getitem__', '__gt__', '__hash__', '__iadd__', '__iand__', '__ifloordiv__', '__ilshift__', '__imatmul__', '__imod__', '__imul__', '__index__', '__init__', '__init_subclass__', '__int__', '__invert__', '__ior__', '__ipow__', '__irshift__', '__isub__', '__iter__', '__itruediv__', '__ixor__', '__le__', '__len__', '__lshift__', '__lt__', '__matmul__', '__mod__', '__mul__', '__ne__', '__neg__', '__new__', '__or__', '__pos__', '__pow__', '__radd__', '__rand__', '__rdivmod__', '__reduce__', '__reduce_ex__', '__repr__', '__rfloordiv__', '__rlshift__', '__rmatmul__', '__rmod__', '__rmul__', '__ror__', '__rpow__', '__rrshift__', '__rshift__', '__rsub__', '__rtruediv__', '__rxor__', '__setattr__', '__setitem__', '__setstate__', '__sizeof__', '__str__', '__sub__', '__subclasshook__', '__truediv__', '__xor__', 'all', 'any', 'argmax', 'argmin', 'argpartition', 'argsort', 'astype', 'base', 'byteswap', 'choose', 'clip', 'compress', 'conj', 'conjugate', 'copy', 'ctypes', 'cumprod', 'cumsum', 'data', 'diagonal', 'dot', 'dtype', 'dump', 'dumps', 'fill', 'flags', 'flat', 'flatten', 'getfield', 'imag', 'item', 'itemset', 'itemsize', 'max', 'mean', 'min', 'nbytes', 'ndim', 'newbyteorder', 'nonzero', 'partition', 'prod', 'ptp', 'put', 'ravel', 'real', 'repeat', 'reshape', 'resize', 'round', 'searchsorted', 'setfield', 'setflags', 'shape', 'size', 'sort', 'squeeze', 'std', 'strides', 'sum', 'swapaxes', 'take', 'tobytes', 'tofile', 'tolist', 'tostring', 'trace', 'transpose', 'var', 'view']\n"
     ]
    }
   ],
   "source": [
    "print(dir(values))"
   ]
  },
  {
   "cell_type": "code",
   "execution_count": 8,
   "metadata": {},
   "outputs": [
    {
     "name": "stdout",
     "output_type": "stream",
     "text": [
      "(249, 331, 301)\n",
      "249 331 301\n"
     ]
    }
   ],
   "source": [
    "# sets, rows per set, columns per row\n",
    "print(values.shape)\n",
    "\n",
    "# would equate to\n",
    "sets = len(values)\n",
    "rows = len(values[0])\n",
    "cols = len(values[0][0])\n",
    "print(sets, rows, cols)"
   ]
  },
  {
   "cell_type": "markdown",
   "metadata": {},
   "source": [
    "## Testing lat/longs"
   ]
  },
  {
   "cell_type": "code",
   "execution_count": 9,
   "metadata": {},
   "outputs": [
    {
     "name": "stdout",
     "output_type": "stream",
     "text": [
      "min/max lat ang lon:  -0.00010999999961602835 55.0 260.0 310.0000000000057\n",
      "min/max lat ang lon:  -0.00010999999961602835 55.0 260.0 310.0000000000057\n",
      "min/max lat ang lon:  -0.00010999999961602835 55.0 260.0 310.0000000000057\n",
      "min/max lat ang lon:  -0.00010999999961602835 55.0 260.0 310.0000000000057\n",
      "min/max lat ang lon:  -0.00010999999961602835 55.0 260.0 310.0000000000057\n"
     ]
    }
   ],
   "source": [
    "for grb in dp_grb_obj[1:6]:\n",
    "    lats, lons = grb.latlons()\n",
    "    print(\"min/max lat ang lon: \", lats.min(), lats.max(), lons.min(), lons.max())"
   ]
  },
  {
   "cell_type": "code",
   "execution_count": 10,
   "metadata": {},
   "outputs": [],
   "source": [
    "wind_grb_file = \"multi_reanal.ecg_10m.wind.200901.grb2\"\n",
    "wind_grb_obj = pygrib.open(os.path.join(data_dir, wind_grb_file))\n",
    "\n",
    "# Reqind the iterator\n",
    "wind_grb_obj.rewind()\n",
    "\n",
    "# values = np.array([grb.values for grb in wind_grb_obj])\n",
    "# np.savetxt(\"test_wind.csv\", values, delimiter=\",\")\n",
    "\n",
    "data_dict = {}\n",
    "# Each iteration captures point in time across entire grid\n",
    "for grb in wind_grb_obj:\n",
    "    data_dict.update({grb.validDate: {grb.parameterName: np.array(grb.values)}})"
   ]
  },
  {
   "cell_type": "code",
   "execution_count": 11,
   "metadata": {},
   "outputs": [
    {
     "name": "stdout",
     "output_type": "stream",
     "text": [
      "{'v-component of wind': array([[9999., 9999., 9999., ..., 9999., 9999., 9999.],\n",
      "       [9999., 9999., 9999., ..., 9999., 9999., 9999.],\n",
      "       [9999., 9999., 9999., ..., 9999., 9999., 9999.],\n",
      "       ...,\n",
      "       [9999., 9999., 9999., ..., 9999., 9999., 9999.],\n",
      "       [9999., 9999., 9999., ..., 9999., 9999., 9999.],\n",
      "       [9999., 9999., 9999., ..., 9999., 9999., 9999.]])}\n"
     ]
    }
   ],
   "source": [
    "print(data_dict[datetime.datetime(2009, 1, 1, 0, 0)])"
   ]
  },
  {
   "cell_type": "code",
   "execution_count": 12,
   "metadata": {},
   "outputs": [
    {
     "name": "stdout",
     "output_type": "stream",
     "text": [
      "Significant height of combined wind waves and swell\n",
      "(1, 331, 301) 0.0 9999.0\n",
      "-0.00010999999961602835 55.0 260.0 310.0000000000057\n"
     ]
    }
   ],
   "source": [
    "hs_grb_obj.rewind()\n",
    "\n",
    "print(hs_grb_obj[1].parameterName)\n",
    "\n",
    "date_selected = datetime.datetime(2009,1,1,0,0)\n",
    "\n",
    "values = []\n",
    "\n",
    "for grb in hs_grb_obj:\n",
    "    if grb.validDate == date_selected and grb.parameterName == 'Significant height of combined wind waves and swell':\n",
    "        values.append(grb.values)\n",
    "values = np.array(values)\n",
    "print(values.shape, values.min(), values.max())\n",
    "\n",
    "lats, longs = grb.latlons()\n",
    "print(lats.min(), lats.max(), longs.min(), longs.max())"
   ]
  },
  {
   "cell_type": "code",
   "execution_count": 13,
   "metadata": {},
   "outputs": [
    {
     "data": {
      "text/plain": [
       "\"\\nfig = plt.figure(figsize=(16,35))\\n# https://matplotlib.org/basemap/users/ortho.html\\nm = Basemap(projection='lcc', lon_0=-80, lat_0=30, resolution='l', width=5.e6, height=5.e6)\\nx, y = m(longs, lats)\\n\\n# for vals in range(1, 2):\\n#     print(values[vals])\\n\\nax = plt.plot(values[0])\\nm.drawcoastlines()\\ncs = m.contourf(x, y, values[0], np.linspace(230, 300, 41), cmap=plt.cm.jet, extend='both')\\nt = plt.title('test')\\n\""
      ]
     },
     "execution_count": 13,
     "metadata": {},
     "output_type": "execute_result"
    }
   ],
   "source": [
    "\"\"\"\n",
    "fig = plt.figure(figsize=(16,35))\n",
    "# https://matplotlib.org/basemap/users/ortho.html\n",
    "m = Basemap(projection='lcc', lon_0=-80, lat_0=30, resolution='l', width=5.e6, height=5.e6)\n",
    "x, y = m(longs, lats)\n",
    "\n",
    "# for vals in range(1, 2):\n",
    "#     print(values[vals])\n",
    "\n",
    "ax = plt.plot(values[0])\n",
    "m.drawcoastlines()\n",
    "cs = m.contourf(x, y, values[0], np.linspace(230, 300, 41), cmap=plt.cm.jet, extend='both')\n",
    "t = plt.title('test')\n",
    "\"\"\""
   ]
  },
  {
   "cell_type": "code",
   "execution_count": 14,
   "metadata": {},
   "outputs": [
    {
     "name": "stdout",
     "output_type": "stream",
     "text": [
      "2009-01-01 00:00:00 Significant height of combined wind waves and swell (array([[ 5.5000000e+01,  5.5000000e+01,  5.5000000e+01, ...,\n",
      "         5.5000000e+01,  5.5000000e+01,  5.5000000e+01],\n",
      "       [ 5.4833333e+01,  5.4833333e+01,  5.4833333e+01, ...,\n",
      "         5.4833333e+01,  5.4833333e+01,  5.4833333e+01],\n",
      "       [ 5.4666666e+01,  5.4666666e+01,  5.4666666e+01, ...,\n",
      "         5.4666666e+01,  5.4666666e+01,  5.4666666e+01],\n",
      "       ...,\n",
      "       [ 3.3322400e-01,  3.3322400e-01,  3.3322400e-01, ...,\n",
      "         3.3322400e-01,  3.3322400e-01,  3.3322400e-01],\n",
      "       [ 1.6655700e-01,  1.6655700e-01,  1.6655700e-01, ...,\n",
      "         1.6655700e-01,  1.6655700e-01,  1.6655700e-01],\n",
      "       [-1.1000000e-04, -1.1000000e-04, -1.1000000e-04, ...,\n",
      "        -1.1000000e-04, -1.1000000e-04, -1.1000000e-04]]), array([[260.        , 260.16666667, 260.33333333, ..., 309.66666667,\n",
      "        309.83333333, 310.        ],\n",
      "       [260.        , 260.16666667, 260.33333333, ..., 309.66666667,\n",
      "        309.83333333, 310.        ],\n",
      "       [260.        , 260.16666667, 260.33333333, ..., 309.66666667,\n",
      "        309.83333333, 310.        ],\n",
      "       ...,\n",
      "       [260.        , 260.16666667, 260.33333333, ..., 309.66666667,\n",
      "        309.83333333, 310.        ],\n",
      "       [260.        , 260.16666667, 260.33333333, ..., 309.66666667,\n",
      "        309.83333333, 310.        ],\n",
      "       [260.        , 260.16666667, 260.33333333, ..., 309.66666667,\n",
      "        309.83333333, 310.        ]]))\n"
     ]
    }
   ],
   "source": [
    "hs_grb_obj.rewind()\n",
    "\n",
    "for grb in hs_grb_obj[1:2]:\n",
    "    print(grb.validDate, grb.parameterName, grb.latlons())"
   ]
  },
  {
   "cell_type": "code",
   "execution_count": 15,
   "metadata": {},
   "outputs": [
    {
     "name": "stdout",
     "output_type": "stream",
     "text": [
      "2009-02-01\n"
     ]
    }
   ],
   "source": [
    "print((datetime.datetime(2009, 1, 1, 0, 0) + datetime.timedelta(hours=744)).strftime(\"%Y-%m-%d\"))"
   ]
  },
  {
   "cell_type": "markdown",
   "metadata": {},
   "source": [
    "### Better iteration method:"
   ]
  },
  {
   "cell_type": "code",
   "execution_count": 16,
   "metadata": {},
   "outputs": [
    {
     "name": "stdout",
     "output_type": "stream",
     "text": [
      "0\n",
      "[1:Significant height of combined wind waves and swell:m (instant):regular_ll:surface:level 1:fcst time 0 hrs:from 200901010000]\n"
     ]
    }
   ],
   "source": [
    "# hs_grb_obj.rewind()\n",
    "hs_grb_obj.seek(0)\n",
    "print(hs_grb_obj.tell())\n",
    "print(hs_grb_obj.read(1))"
   ]
  },
  {
   "cell_type": "code",
   "execution_count": 17,
   "metadata": {
    "tags": []
   },
   "outputs": [
    {
     "name": "stdout",
     "output_type": "stream",
     "text": [
      "0\n",
      "249\n"
     ]
    }
   ],
   "source": [
    "hs_grb_obj.seek(0)\n",
    "print(hs_grb_obj.tell())\n",
    "\n",
    "for grb in hs_grb_obj:\n",
    "    grb\n",
    "    \n",
    "print(hs_grb_obj.tell())"
   ]
  },
  {
   "cell_type": "code",
   "execution_count": 18,
   "metadata": {},
   "outputs": [
    {
     "name": "stdout",
     "output_type": "stream",
     "text": [
      "1\n",
      "[[-- -- -- ... -- -- --]\n",
      " [-- -- -- ... -- -- --]\n",
      " [-- -- -- ... -- -- --]\n",
      " ...\n",
      " [-- -- -- ... -- -- --]\n",
      " [-- -- -- ... -- -- --]\n",
      " [-- -- -- ... -- -- --]]\n",
      "2\n",
      "[[-- -- -- ... -- -- --]\n",
      " [-- -- -- ... -- -- --]\n",
      " [-- -- -- ... -- -- --]\n",
      " ...\n",
      " [-- -- -- ... -- -- --]\n",
      " [-- -- -- ... -- -- --]\n",
      " [-- -- -- ... -- -- --]]\n"
     ]
    }
   ],
   "source": [
    "hs_grb_obj.seek(0)\n",
    "grb = hs_grb_obj.read(1)[0]\n",
    "print(\"1\")\n",
    "print(grb.values)\n",
    "\n",
    "\n",
    "print(\"2\")\n",
    "grb = hs_grb_obj.select(name=\"Significant height of combined wind waves and swell\")[0]\n",
    "print(grb.values)"
   ]
  },
  {
   "cell_type": "code",
   "execution_count": 19,
   "metadata": {
    "tags": []
   },
   "outputs": [
    {
     "data": {
      "text/plain": [
       "[2:Significant height of combined wind waves and swell:m (instant):regular_ll:surface:level 1:fcst time 3 hrs:from 200901010000,\n",
       " 3:Significant height of combined wind waves and swell:m (instant):regular_ll:surface:level 1:fcst time 6 hrs:from 200901010000,\n",
       " 4:Significant height of combined wind waves and swell:m (instant):regular_ll:surface:level 1:fcst time 9 hrs:from 200901010000,\n",
       " 5:Significant height of combined wind waves and swell:m (instant):regular_ll:surface:level 1:fcst time 12 hrs:from 200901010000,\n",
       " 6:Significant height of combined wind waves and swell:m (instant):regular_ll:surface:level 1:fcst time 15 hrs:from 200901010000]"
      ]
     },
     "execution_count": 19,
     "metadata": {},
     "output_type": "execute_result"
    }
   ],
   "source": [
    "hs_grb_obj.select(name=\"Significant height of combined wind waves and swell\")[1:6]"
   ]
  },
  {
   "cell_type": "markdown",
   "metadata": {},
   "source": [
    "---"
   ]
  },
  {
   "cell_type": "markdown",
   "metadata": {},
   "source": [
    "Find the first grib message with a matching name:"
   ]
  },
  {
   "cell_type": "code",
   "execution_count": 20,
   "metadata": {},
   "outputs": [],
   "source": [
    "grb = hs_grb_obj.select(name=\"Significant height of combined wind waves and swell\")[0]"
   ]
  },
  {
   "cell_type": "markdown",
   "metadata": {},
   "source": [
    "Extract the data values using the values key (grb.keys() will return a list of the available keys):"
   ]
  },
  {
   "cell_type": "code",
   "execution_count": 21,
   "metadata": {},
   "outputs": [
    {
     "data": {
      "text/plain": [
       "masked_array(\n",
       "  data=[[--, --, --, ..., --, --, --],\n",
       "        [--, --, --, ..., --, --, --],\n",
       "        [--, --, --, ..., --, --, --],\n",
       "        ...,\n",
       "        [--, --, --, ..., --, --, --],\n",
       "        [--, --, --, ..., --, --, --],\n",
       "        [--, --, --, ..., --, --, --]],\n",
       "  mask=[[ True,  True,  True, ...,  True,  True,  True],\n",
       "        [ True,  True,  True, ...,  True,  True,  True],\n",
       "        [ True,  True,  True, ...,  True,  True,  True],\n",
       "        ...,\n",
       "        [ True,  True,  True, ...,  True,  True,  True],\n",
       "        [ True,  True,  True, ...,  True,  True,  True],\n",
       "        [ True,  True,  True, ...,  True,  True,  True]],\n",
       "  fill_value=9999.0)"
      ]
     },
     "execution_count": 21,
     "metadata": {},
     "output_type": "execute_result"
    }
   ],
   "source": [
    "# The data is returned as a numpy array, or if missing values or a bitmap\n",
    "# are present, a numpy masked array.  Reduced lat/lon or gaussian grid\n",
    "# data is automatically expanded to a regular grid. Details of the internal\n",
    "# representation of the grib data (such as the scanning mode) are handled\n",
    "# automatically.\n",
    "\n",
    "grb.values"
   ]
  },
  {
   "cell_type": "code",
   "execution_count": 22,
   "metadata": {},
   "outputs": [
    {
     "data": {
      "text/plain": [
       "((331, 301), 0.0, 6.5600000000000005)"
      ]
     },
     "execution_count": 22,
     "metadata": {},
     "output_type": "execute_result"
    }
   ],
   "source": [
    "grb.values.shape, grb.values.min(), grb.values.max()"
   ]
  },
  {
   "cell_type": "markdown",
   "metadata": {},
   "source": [
    "Get the latitudes and longitudes of the grid:"
   ]
  },
  {
   "cell_type": "code",
   "execution_count": 23,
   "metadata": {},
   "outputs": [
    {
     "data": {
      "text/plain": [
       "((331, 301),\n",
       " -0.00010999999961602835,\n",
       " 55.0,\n",
       " (331, 301),\n",
       " 260.0,\n",
       " 310.0000000000057)"
      ]
     },
     "execution_count": 23,
     "metadata": {},
     "output_type": "execute_result"
    }
   ],
   "source": [
    "lats, lons = grb.latlons()\n",
    "lats.shape, lats.min(), lats.max(), lons.shape, lons.min(), lons.max()"
   ]
  },
  {
   "cell_type": "markdown",
   "metadata": {},
   "source": [
    "Extract data and get lat/lon values for a subset over North America:"
   ]
  },
  {
   "cell_type": "code",
   "execution_count": 24,
   "metadata": {},
   "outputs": [
    {
     "data": {
      "text/plain": [
       "((210, 301), 20.166597000000415, 55.0, 260.0, 310.0000000000057)"
      ]
     },
     "execution_count": 24,
     "metadata": {},
     "output_type": "execute_result"
    }
   ],
   "source": [
    "data, lats, lons = grb.data(lat1=20,lat2=70,lon1=220,lon2=320)\n",
    "\n",
    "data.shape, lats.min(), lats.max(), lons.min(), lons.max()"
   ]
  },
  {
   "cell_type": "markdown",
   "metadata": {},
   "source": [
    "Close the grib file"
   ]
  },
  {
   "cell_type": "code",
   "execution_count": 25,
   "metadata": {},
   "outputs": [],
   "source": [
    "hs_grb_obj.close()"
   ]
  },
  {
   "cell_type": "markdown",
   "metadata": {},
   "source": [
    "---"
   ]
  },
  {
   "cell_type": "markdown",
   "metadata": {},
   "source": [
    "### Testing [docstrings](https://jswhit.github.io/pygrib/api.html#module-pygrib)"
   ]
  },
  {
   "cell_type": "code",
   "execution_count": 26,
   "metadata": {},
   "outputs": [
    {
     "name": "stdout",
     "output_type": "stream",
     "text": [
      "249 249\n"
     ]
    }
   ],
   "source": [
    "grbs = wind_grb_obj\n",
    "\n",
    "grbs.seek(0)\n",
    "\n",
    "u_grb = grbs.select(name=\"U component of wind\")\n",
    "v_grb = grbs.select(name=\"V component of wind\")\n",
    "\n",
    "print(len(u_grb), len(v_grb))"
   ]
  },
  {
   "cell_type": "code",
   "execution_count": 27,
   "metadata": {},
   "outputs": [
    {
     "name": "stdout",
     "output_type": "stream",
     "text": [
      "(331, 301) (331, 301)\n"
     ]
    }
   ],
   "source": [
    "print(u_grb[0].values.shape, v_grb[0].values.shape)"
   ]
  },
  {
   "cell_type": "code",
   "execution_count": 28,
   "metadata": {},
   "outputs": [],
   "source": [
    "grbs = wind_grb_obj\n",
    "grbs.seek(0)\n",
    "grb = grbs.select(name=\"U component of wind\")[0]"
   ]
  },
  {
   "cell_type": "code",
   "execution_count": 29,
   "metadata": {},
   "outputs": [
    {
     "data": {
      "text/plain": [
       "False"
      ]
     },
     "execution_count": 29,
     "metadata": {},
     "output_type": "execute_result"
    }
   ],
   "source": [
    "grb.has_key(\"gaulats\")"
   ]
  },
  {
   "cell_type": "markdown",
   "metadata": {},
   "source": [
    "### pygrib.gribmessage object"
   ]
  },
  {
   "cell_type": "code",
   "execution_count": 30,
   "metadata": {},
   "outputs": [
    {
     "name": "stdout",
     "output_type": "stream",
     "text": [
      "grb.messagenumber:  1\n",
      "grb.fcstimeunits:  hrs\n",
      "grb.analDate:  2009-01-01 00:00:00\n",
      "grb.validDate:  2009-01-01 00:00:00\n"
     ]
    }
   ],
   "source": [
    "print('grb.messagenumber: ', grb.messagenumber)\n",
    "print('grb.fcstimeunits: ', grb.fcstimeunits) \n",
    "print('grb.analDate: ', grb.analDate)\n",
    "print('grb.validDate: ', grb.validDate)"
   ]
  },
  {
   "cell_type": "code",
   "execution_count": 31,
   "metadata": {},
   "outputs": [
    {
     "data": {
      "text/plain": [
       "(masked_array(\n",
       "   data=[[--, --, --, ..., --, --, --],\n",
       "         [--, --, --, ..., --, --, --],\n",
       "         [--, --, --, ..., --, --, --],\n",
       "         ...,\n",
       "         [--, --, --, ..., --, --, --],\n",
       "         [--, --, --, ..., --, --, --],\n",
       "         [--, --, --, ..., --, --, --]],\n",
       "   mask=[[ True,  True,  True, ...,  True,  True,  True],\n",
       "         [ True,  True,  True, ...,  True,  True,  True],\n",
       "         [ True,  True,  True, ...,  True,  True,  True],\n",
       "         ...,\n",
       "         [ True,  True,  True, ...,  True,  True,  True],\n",
       "         [ True,  True,  True, ...,  True,  True,  True],\n",
       "         [ True,  True,  True, ...,  True,  True,  True]],\n",
       "   fill_value=9999.0),\n",
       " array([[ 5.5000000e+01,  5.5000000e+01,  5.5000000e+01, ...,\n",
       "          5.5000000e+01,  5.5000000e+01,  5.5000000e+01],\n",
       "        [ 5.4833333e+01,  5.4833333e+01,  5.4833333e+01, ...,\n",
       "          5.4833333e+01,  5.4833333e+01,  5.4833333e+01],\n",
       "        [ 5.4666666e+01,  5.4666666e+01,  5.4666666e+01, ...,\n",
       "          5.4666666e+01,  5.4666666e+01,  5.4666666e+01],\n",
       "        ...,\n",
       "        [ 3.3322400e-01,  3.3322400e-01,  3.3322400e-01, ...,\n",
       "          3.3322400e-01,  3.3322400e-01,  3.3322400e-01],\n",
       "        [ 1.6655700e-01,  1.6655700e-01,  1.6655700e-01, ...,\n",
       "          1.6655700e-01,  1.6655700e-01,  1.6655700e-01],\n",
       "        [-1.1000000e-04, -1.1000000e-04, -1.1000000e-04, ...,\n",
       "         -1.1000000e-04, -1.1000000e-04, -1.1000000e-04]]),\n",
       " array([[260.        , 260.16666667, 260.33333333, ..., 309.66666667,\n",
       "         309.83333333, 310.        ],\n",
       "        [260.        , 260.16666667, 260.33333333, ..., 309.66666667,\n",
       "         309.83333333, 310.        ],\n",
       "        [260.        , 260.16666667, 260.33333333, ..., 309.66666667,\n",
       "         309.83333333, 310.        ],\n",
       "        ...,\n",
       "        [260.        , 260.16666667, 260.33333333, ..., 309.66666667,\n",
       "         309.83333333, 310.        ],\n",
       "        [260.        , 260.16666667, 260.33333333, ..., 309.66666667,\n",
       "         309.83333333, 310.        ],\n",
       "        [260.        , 260.16666667, 260.33333333, ..., 309.66666667,\n",
       "         309.83333333, 310.        ]]))"
      ]
     },
     "execution_count": 31,
     "metadata": {},
     "output_type": "execute_result"
    }
   ],
   "source": [
    "# If the default values of lat1,lat2,lon1,lon2 are None, which means the entire grid is returned\n",
    "grb.data(lat1=None, lat2=None, lon1=None, lon2=None)"
   ]
  },
  {
   "cell_type": "code",
   "execution_count": null,
   "metadata": {},
   "outputs": [],
   "source": []
  },
  {
   "cell_type": "code",
   "execution_count": 32,
   "metadata": {},
   "outputs": [],
   "source": [
    "grbs = wind_grb_obj\n",
    "\n",
    "grbs.seek(0)\n",
    "\n",
    "u_grb = grbs.select(name=\"U component of wind\")\n",
    "v_grb = grbs.select(name=\"V component of wind\")\n",
    "\n",
    "grbs = u_grb"
   ]
  },
  {
   "cell_type": "code",
   "execution_count": 33,
   "metadata": {},
   "outputs": [
    {
     "name": "stdout",
     "output_type": "stream",
     "text": [
      "grb.messagenumber:  1\n",
      "grb.fcstimeunits:  hrs\n",
      "grb.validDate:  2009-01-01 00:00:00\n",
      "type(grb.values):  <class 'numpy.ma.core.MaskedArray'>\n",
      "[[-- -- -- ... -- -- --]\n",
      " [-- -- -- ... -- -- --]\n",
      " [-- -- -- ... -- -- --]\n",
      " ...\n",
      " [-- -- -- ... -- -- --]\n",
      " [-- -- -- ... -- -- --]\n",
      " [-- -- -- ... -- -- --]]\n"
     ]
    }
   ],
   "source": [
    "for grb in grbs:\n",
    "    print('grb.messagenumber: ', grb.messagenumber)\n",
    "    print('grb.fcstimeunits: ', grb.fcstimeunits) \n",
    "    print('grb.validDate: ', grb.validDate)\n",
    "    print('type(grb.values): ', type(grb.values))\n",
    "    print(grb.values)\n",
    "    break"
   ]
  },
  {
   "cell_type": "markdown",
   "metadata": {},
   "source": [
    "## Masked arrays"
   ]
  },
  {
   "cell_type": "code",
   "execution_count": 34,
   "metadata": {},
   "outputs": [],
   "source": [
    "# Masked arrays are arrays that may have missing or invalid entries\n",
    "# https://numpy.org/doc/stable/reference/maskedarray.generic.html\n",
    "\n",
    "# When an element of the mask is False, the corresponding element of the associated array is valid and is said to be unmasked. \n",
    "# When an element of the mask is True, the corresponding element of the associated array is said to be masked (invalid).\n",
    "# The package ensures that masked entries are not used in computations.\n",
    "\n",
    "import numpy.ma as ma"
   ]
  },
  {
   "cell_type": "markdown",
   "metadata": {},
   "source": [
    "### Masked array example"
   ]
  },
  {
   "cell_type": "code",
   "execution_count": 35,
   "metadata": {},
   "outputs": [
    {
     "name": "stdout",
     "output_type": "stream",
     "text": [
      "2.0\n",
      "2.75\n"
     ]
    }
   ],
   "source": [
    "x = np.array([1, 2, 3, -1, 5])\n",
    "print(x.mean())\n",
    "\n",
    "# Mark the fourth element as invalid\n",
    "mx = ma.masked_array(x, mask=[0, 0, 0, 1, 0])\n",
    "print(mx.mean())"
   ]
  },
  {
   "cell_type": "markdown",
   "metadata": {},
   "source": [
    "### Usage"
   ]
  },
  {
   "cell_type": "code",
   "execution_count": 36,
   "metadata": {},
   "outputs": [],
   "source": [
    "grbs = wind_grb_obj\n",
    "\n",
    "grbs.seek(0)\n",
    "\n",
    "u_grb = grbs.select(name=\"U component of wind\")\n",
    "v_grb = grbs.select(name=\"V component of wind\")\n",
    "\n",
    "grb = u_grb[0]"
   ]
  },
  {
   "cell_type": "code",
   "execution_count": 37,
   "metadata": {},
   "outputs": [
    {
     "data": {
      "text/plain": [
       "True"
      ]
     },
     "execution_count": 37,
     "metadata": {},
     "output_type": "execute_result"
    }
   ],
   "source": [
    "# Test if input is instance of masked array\n",
    "ma.isMaskedArray(grb.values)"
   ]
  },
  {
   "cell_type": "code",
   "execution_count": 38,
   "metadata": {},
   "outputs": [
    {
     "data": {
      "text/plain": [
       "False"
      ]
     },
     "execution_count": 38,
     "metadata": {},
     "output_type": "execute_result"
    }
   ],
   "source": [
    "# Check if all elements evaluate to True\n",
    "# If false, invalid values exist\n",
    "ma.all(grb.values)"
   ]
  },
  {
   "cell_type": "code",
   "execution_count": 39,
   "metadata": {},
   "outputs": [
    {
     "name": "stdout",
     "output_type": "stream",
     "text": [
      "30096\n",
      "69535\n"
     ]
    }
   ],
   "source": [
    "print(ma.count(grb.values)) # non-maked elements\n",
    "print(ma.count_masked(grb.values)) # masked elements"
   ]
  },
  {
   "cell_type": "code",
   "execution_count": 40,
   "metadata": {},
   "outputs": [
    {
     "data": {
      "text/plain": [
       "array([[9999., 9999., 9999., ..., 9999., 9999., 9999.],\n",
       "       [9999., 9999., 9999., ..., 9999., 9999., 9999.],\n",
       "       [9999., 9999., 9999., ..., 9999., 9999., 9999.],\n",
       "       ...,\n",
       "       [9999., 9999., 9999., ..., 9999., 9999., 9999.],\n",
       "       [9999., 9999., 9999., ..., 9999., 9999., 9999.],\n",
       "       [9999., 9999., 9999., ..., 9999., 9999., 9999.]])"
      ]
     },
     "execution_count": 40,
     "metadata": {},
     "output_type": "execute_result"
    }
   ],
   "source": [
    "ma.getdata(grb.values)"
   ]
  },
  {
   "cell_type": "code",
   "execution_count": null,
   "metadata": {},
   "outputs": [],
   "source": []
  },
  {
   "cell_type": "code",
   "execution_count": 41,
   "metadata": {},
   "outputs": [
    {
     "data": {
      "text/plain": [
       "masked_array(data=[--, --, --, ..., --, --, --],\n",
       "             mask=[ True,  True,  True, ...,  True,  True,  True],\n",
       "       fill_value=9999.0)"
      ]
     },
     "execution_count": 41,
     "metadata": {},
     "output_type": "execute_result"
    }
   ],
   "source": [
    "ma.ravel(grb.values) # Returns a 1D version of self, as a view."
   ]
  },
  {
   "cell_type": "code",
   "execution_count": 42,
   "metadata": {},
   "outputs": [
    {
     "data": {
      "text/plain": [
       "9999.0"
      ]
     },
     "execution_count": 42,
     "metadata": {},
     "output_type": "execute_result"
    }
   ],
   "source": [
    "ma.ravel(grb.values).fill_value"
   ]
  },
  {
   "cell_type": "code",
   "execution_count": 43,
   "metadata": {},
   "outputs": [
    {
     "data": {
      "text/plain": [
       "array([[9999., 9999., 9999., ..., 9999., 9999., 9999.],\n",
       "       [9999., 9999., 9999., ..., 9999., 9999., 9999.],\n",
       "       [9999., 9999., 9999., ..., 9999., 9999., 9999.],\n",
       "       ...,\n",
       "       [9999., 9999., 9999., ..., 9999., 9999., 9999.],\n",
       "       [9999., 9999., 9999., ..., 9999., 9999., 9999.],\n",
       "       [9999., 9999., 9999., ..., 9999., 9999., 9999.]])"
      ]
     },
     "execution_count": 43,
     "metadata": {},
     "output_type": "execute_result"
    }
   ],
   "source": [
    "ma.filled(grb.values)"
   ]
  },
  {
   "cell_type": "code",
   "execution_count": 44,
   "metadata": {},
   "outputs": [
    {
     "data": {
      "text/plain": [
       "array([[(9999.,  True), (9999.,  True), (9999.,  True), ...,\n",
       "        (9999.,  True), (9999.,  True), (9999.,  True)],\n",
       "       [(9999.,  True), (9999.,  True), (9999.,  True), ...,\n",
       "        (9999.,  True), (9999.,  True), (9999.,  True)],\n",
       "       [(9999.,  True), (9999.,  True), (9999.,  True), ...,\n",
       "        (9999.,  True), (9999.,  True), (9999.,  True)],\n",
       "       ...,\n",
       "       [(9999.,  True), (9999.,  True), (9999.,  True), ...,\n",
       "        (9999.,  True), (9999.,  True), (9999.,  True)],\n",
       "       [(9999.,  True), (9999.,  True), (9999.,  True), ...,\n",
       "        (9999.,  True), (9999.,  True), (9999.,  True)],\n",
       "       [(9999.,  True), (9999.,  True), (9999.,  True), ...,\n",
       "        (9999.,  True), (9999.,  True), (9999.,  True)]],\n",
       "      dtype=[('_data', '<f8'), ('_mask', '?')])"
      ]
     },
     "execution_count": 44,
     "metadata": {},
     "output_type": "execute_result"
    }
   ],
   "source": [
    "ma.MaskedArray.torecords(grb.values)"
   ]
  },
  {
   "cell_type": "markdown",
   "metadata": {},
   "source": [
    "---"
   ]
  },
  {
   "cell_type": "code",
   "execution_count": 45,
   "metadata": {},
   "outputs": [
    {
     "data": {
      "text/plain": [
       "0"
      ]
     },
     "execution_count": 45,
     "metadata": {},
     "output_type": "execute_result"
    }
   ],
   "source": [
    "wind_grb_obj.name # name of object\n",
    "wind_grb_obj.messages # count of messages\n",
    "wind_grb_obj.messagenumber # Current message index"
   ]
  },
  {
   "cell_type": "markdown",
   "metadata": {},
   "source": [
    "---"
   ]
  }
 ],
 "metadata": {
  "kernelspec": {
   "display_name": "Python 3 (ipykernel)",
   "language": "python",
   "name": "python3"
  },
  "language_info": {
   "codemirror_mode": {
    "name": "ipython",
    "version": 3
   },
   "file_extension": ".py",
   "mimetype": "text/x-python",
   "name": "python",
   "nbconvert_exporter": "python",
   "pygments_lexer": "ipython3",
   "version": "3.11.4"
  }
 },
 "nbformat": 4,
 "nbformat_minor": 4
}
