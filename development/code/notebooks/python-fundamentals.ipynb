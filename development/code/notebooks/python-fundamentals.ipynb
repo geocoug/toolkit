{
 "cells": [
  {
   "cell_type": "raw",
   "id": "62399bb0-6065-4121-a278-b2f46722f12e",
   "metadata": {},
   "source": [
    "---\n",
    "title: Python Fundamentals\n",
    "description: Concepts and methods on the fundamentals of Python\n",
    "image: \"/static/development/python.jpg\"\n",
    "---"
   ]
  },
  {
   "cell_type": "markdown",
   "id": "86f20778",
   "metadata": {},
   "source": [
    "# Python Fundamentals\n",
    "\n",
    "Concepts and methods on the fundamentals of Python."
   ]
  },
  {
   "cell_type": "markdown",
   "id": "offshore-ozone",
   "metadata": {},
   "source": [
    "# Modules & Methods\n",
    "\n",
    "Modules contain a \"library\" of methods"
   ]
  },
  {
   "cell_type": "markdown",
   "id": "colored-behavior",
   "metadata": {},
   "source": [
    "# Object Oriented Programming (OOP)"
   ]
  },
  {
   "cell_type": "markdown",
   "id": "functioning-victorian",
   "metadata": {},
   "source": [
    "***Classes*** \n",
    "\n",
    "Consists of attributes and methods\n",
    "\n",
    "**Example**: Car\n",
    "\n",
    "*Attributes*: fuel, max speed, color\n",
    "\n",
    "*Method* (function): refuel(), setSpeed()\n",
    "\n",
    "Methods create attributes for classes"
   ]
  },
  {
   "cell_type": "markdown",
   "id": "imperial-department",
   "metadata": {},
   "source": [
    "## Creating a class"
   ]
  },
  {
   "cell_type": "code",
   "execution_count": 1,
   "id": "revised-makeup",
   "metadata": {},
   "outputs": [],
   "source": [
    "class MyClass:\n",
    "    x = 55\n",
    "    name = \"Allie Trent\"\n",
    "    attr_list = ['Bones', 'Food', 'Frisbee']"
   ]
  },
  {
   "cell_type": "code",
   "execution_count": 2,
   "id": "tested-andorra",
   "metadata": {},
   "outputs": [
    {
     "data": {
      "text/plain": [
       "'Allie Trent'"
      ]
     },
     "execution_count": 2,
     "metadata": {},
     "output_type": "execute_result"
    }
   ],
   "source": [
    "MyClass.name"
   ]
  },
  {
   "cell_type": "markdown",
   "id": "streaming-ranking",
   "metadata": {},
   "source": [
    "## Methods in a class"
   ]
  },
  {
   "cell_type": "code",
   "execution_count": 3,
   "id": "coral-civilian",
   "metadata": {},
   "outputs": [],
   "source": [
    "class Methods_Class:\n",
    "    x = \"Hello World\"\n",
    "    \n",
    "    def my_method():\n",
    "        print(\"Contents of my_method\")\n",
    "        \n",
    "    def subtractor(num_one, num_two):\n",
    "        product = num_one - num_two\n",
    "        print(\"{} - {} = {}\".format(num_two, num_one, product))\n",
    "        \n",
    "    def print_stuff(a, b):\n",
    "        print(a, b)"
   ]
  },
  {
   "cell_type": "code",
   "execution_count": 4,
   "id": "above-miracle",
   "metadata": {},
   "outputs": [
    {
     "name": "stdout",
     "output_type": "stream",
     "text": [
      "<class '__main__.Methods_Class'>\n",
      "Hello World\n",
      "<function Methods_Class.my_method at 0xffffab79b400>\n",
      "Contents of my_method\n",
      "None\n",
      "5 - 20 = 15\n",
      "None\n",
      "3 Hello\n",
      "None\n"
     ]
    }
   ],
   "source": [
    "print(Methods_Class)\n",
    "print(Methods_Class.x)\n",
    "print(Methods_Class.my_method)\n",
    "print(Methods_Class.my_method())\n",
    "print(Methods_Class.subtractor(20, 5))\n",
    "print(Methods_Class.print_stuff(3, 'Hello'))"
   ]
  },
  {
   "cell_type": "markdown",
   "id": "adjacent-package",
   "metadata": {},
   "source": [
    "## `__init__`"
   ]
  },
  {
   "cell_type": "markdown",
   "id": "comparable-soviet",
   "metadata": {},
   "source": [
    "Function defined at the start of a class"
   ]
  },
  {
   "cell_type": "code",
   "execution_count": 5,
   "id": "alien-ordinary",
   "metadata": {},
   "outputs": [],
   "source": [
    "class Animals:\n",
    "    def __init__(self, size, noise, color, num_of_legs):\n",
    "        self.size = size\n",
    "        self.noise = noise\n",
    "        self.color = color\n",
    "        self.num_of_legs = num_of_legs        "
   ]
  },
  {
   "cell_type": "code",
   "execution_count": 6,
   "id": "involved-rolling",
   "metadata": {},
   "outputs": [
    {
     "data": {
      "text/plain": [
       "<__main__.Animals at 0xffffab81e590>"
      ]
     },
     "execution_count": 6,
     "metadata": {},
     "output_type": "execute_result"
    }
   ],
   "source": [
    "dog = Animals('Large', 'Woof', 'Liver & White', 4)\n",
    "dog"
   ]
  },
  {
   "cell_type": "code",
   "execution_count": 7,
   "id": "broke-priority",
   "metadata": {},
   "outputs": [
    {
     "data": {
      "text/plain": [
       "'Woof'"
      ]
     },
     "execution_count": 7,
     "metadata": {},
     "output_type": "execute_result"
    }
   ],
   "source": [
    "dog.noise"
   ]
  },
  {
   "cell_type": "markdown",
   "id": "saved-neutral",
   "metadata": {},
   "source": [
    "## Using attributes in a method"
   ]
  },
  {
   "cell_type": "code",
   "execution_count": 8,
   "id": "norman-poland",
   "metadata": {},
   "outputs": [],
   "source": [
    "class Animals:\n",
    "    def __init__(self, species, name, noise, color):\n",
    "        self.species = species\n",
    "        self.name = name\n",
    "        self.noise = noise\n",
    "        self.color = color\n",
    "    \n",
    "    def describe(self):\n",
    "        print('{} is {} which makes a {} noise'.format(self.name, self.color, self.noise))"
   ]
  },
  {
   "cell_type": "code",
   "execution_count": 9,
   "id": "meaningful-utility",
   "metadata": {},
   "outputs": [],
   "source": [
    "dog = Animals('Dog', 'Allie', 'Woof', 'Liver & White')\n",
    "cat = Animals('Cat', 'Misty', 'Meow', 'Black')"
   ]
  },
  {
   "cell_type": "code",
   "execution_count": 10,
   "id": "random-protest",
   "metadata": {},
   "outputs": [
    {
     "name": "stdout",
     "output_type": "stream",
     "text": [
      "Allie is Liver & White which makes a Woof noise\n"
     ]
    }
   ],
   "source": [
    "dog.describe()"
   ]
  },
  {
   "cell_type": "markdown",
   "id": "scheduled-fellow",
   "metadata": {},
   "source": [
    "## Changing variable names in a class object"
   ]
  },
  {
   "cell_type": "code",
   "execution_count": 11,
   "id": "sustainable-animal",
   "metadata": {},
   "outputs": [],
   "source": [
    "class Ages:\n",
    "    def __init__(self, age):\n",
    "        self.age = age\n",
    "\n",
    "    def plus_year(self):\n",
    "        self.age += 1\n",
    "        \n",
    "    def show_age(self):\n",
    "        print(\"Your age is {}\".format(self.age))"
   ]
  },
  {
   "cell_type": "code",
   "execution_count": 12,
   "id": "fossil-selling",
   "metadata": {},
   "outputs": [],
   "source": [
    "me = Ages(27)"
   ]
  },
  {
   "cell_type": "code",
   "execution_count": 13,
   "id": "random-focus",
   "metadata": {},
   "outputs": [
    {
     "name": "stdout",
     "output_type": "stream",
     "text": [
      "Your age is 28\n"
     ]
    }
   ],
   "source": [
    "me.plus_year()\n",
    "me.show_age()"
   ]
  },
  {
   "cell_type": "code",
   "execution_count": 14,
   "id": "satisfactory-intensity",
   "metadata": {},
   "outputs": [],
   "source": [
    "class Warrior:\n",
    "    def __init__(self, name, strength, health):\n",
    "        self.name = name\n",
    "        self.strength = strength\n",
    "        self.health = health\n",
    "    def report(self):\n",
    "        print(\"Hi {}, your strength is {} and health is {}\".format(self.name, self.strength, self.health))\n",
    "    def heal(self):\n",
    "        self.health += 1\n",
    "    def damage(self):\n",
    "        self.health -= 1\n",
    "    def workout(self):\n",
    "        self.strength += 1"
   ]
  },
  {
   "cell_type": "code",
   "execution_count": 15,
   "id": "foreign-halifax",
   "metadata": {},
   "outputs": [],
   "source": [
    "character = Warrior(\"Geocoug\", 60, 100)"
   ]
  },
  {
   "cell_type": "code",
   "execution_count": 16,
   "id": "moved-windows",
   "metadata": {},
   "outputs": [
    {
     "name": "stdout",
     "output_type": "stream",
     "text": [
      "Hi Geocoug, your strength is 60 and health is 92\n",
      "Hi Geocoug, your strength is 60 and health is 97\n",
      "Hi Geocoug, your strength is 61 and health is 97\n"
     ]
    }
   ],
   "source": [
    "[character.damage() for i in range(8)]\n",
    "character.report()\n",
    "[character.heal() for i in range(5)]\n",
    "character.report()\n",
    "character.workout()\n",
    "character.report()"
   ]
  },
  {
   "cell_type": "markdown",
   "id": "criminal-charlotte",
   "metadata": {},
   "source": [
    "## Practical Example - PayFriend"
   ]
  },
  {
   "cell_type": "markdown",
   "id": "thousand-wilson",
   "metadata": {},
   "source": [
    "Create an online bank where:\n",
    "- User can create a new account that includes: Account type (currnet, savings, etc), name of account holder, account balance, etc.\n",
    "- User can withdraw or deposit money, or check balance\n",
    "  "
   ]
  },
  {
   "cell_type": "code",
   "execution_count": 17,
   "id": "august-complex",
   "metadata": {},
   "outputs": [],
   "source": [
    "class Banking:\n",
    "    def __init__(self, name, account, balance):\n",
    "        self.name = name\n",
    "        self.account = account\n",
    "        self.balance = balance\n",
    "    def deposit(self, amount):\n",
    "        self.balance += amount\n",
    "    def withdraw(self, amount):\n",
    "        self.balance -= amount\n",
    "    def report(self):\n",
    "        print('{}, the balance of {} is ${}'.format(self.name, self.account, self.balance))"
   ]
  },
  {
   "cell_type": "code",
   "execution_count": 18,
   "id": "measured-dimension",
   "metadata": {},
   "outputs": [],
   "source": [
    "my_account = Banking('Geocoug', 'Savings', 1000)"
   ]
  },
  {
   "cell_type": "code",
   "execution_count": 19,
   "id": "recreational-massage",
   "metadata": {},
   "outputs": [
    {
     "name": "stdout",
     "output_type": "stream",
     "text": [
      "Geocoug, the balance of Savings is $1050\n",
      "Geocoug, the balance of Savings is $550\n"
     ]
    }
   ],
   "source": [
    "my_account.deposit(50)\n",
    "my_account.report()\n",
    "my_account.withdraw(500)\n",
    "my_account.report()"
   ]
  },
  {
   "cell_type": "markdown",
   "id": "located-jacket",
   "metadata": {},
   "source": [
    "# Functional Programming"
   ]
  },
  {
   "cell_type": "markdown",
   "id": "350abafb-c761-429e-a395-d4fb530e5438",
   "metadata": {},
   "source": [
    "## Lambda\n",
    "\n",
    "Quicker way of creating functions"
   ]
  },
  {
   "cell_type": "code",
   "execution_count": 20,
   "id": "acquired-facial",
   "metadata": {},
   "outputs": [
    {
     "data": {
      "text/plain": [
       "<function __main__.<lambda>(x)>"
      ]
     },
     "execution_count": 20,
     "metadata": {},
     "output_type": "execute_result"
    }
   ],
   "source": [
    "def some_func(x):\n",
    "    y = x + 2\n",
    "    \n",
    "lambda x: x + 2"
   ]
  },
  {
   "cell_type": "code",
   "execution_count": 21,
   "id": "economic-waterproof",
   "metadata": {},
   "outputs": [
    {
     "data": {
      "text/plain": [
       "8"
      ]
     },
     "execution_count": 21,
     "metadata": {},
     "output_type": "execute_result"
    }
   ],
   "source": [
    "lambda_func = lambda x: x + 2\n",
    "lambda_func(6)"
   ]
  },
  {
   "cell_type": "code",
   "execution_count": 22,
   "id": "sacred-cleanup",
   "metadata": {},
   "outputs": [
    {
     "data": {
      "text/plain": [
       "'Hello there, Geocoug'"
      ]
     },
     "execution_count": 22,
     "metadata": {},
     "output_type": "execute_result"
    }
   ],
   "source": [
    "other_func = lambda name: \"Hello there, {}\".format(name)\n",
    "other_func(\"Geocoug\")"
   ]
  },
  {
   "cell_type": "code",
   "execution_count": 23,
   "id": "parliamentary-lincoln",
   "metadata": {},
   "outputs": [
    {
     "data": {
      "text/plain": [
       "7"
      ]
     },
     "execution_count": 23,
     "metadata": {},
     "output_type": "execute_result"
    }
   ],
   "source": [
    "another_func = lambda x, y: x + y\n",
    "another_func(3, 4)"
   ]
  },
  {
   "cell_type": "markdown",
   "id": "marine-martial",
   "metadata": {},
   "source": [
    "## Map\n",
    "\n",
    "Apply the same function/operation on all elements in a list"
   ]
  },
  {
   "cell_type": "markdown",
   "id": "entertaining-longitude",
   "metadata": {},
   "source": [
    "`map(name of function, name of list)`"
   ]
  },
  {
   "cell_type": "code",
   "execution_count": 24,
   "id": "dimensional-prisoner",
   "metadata": {},
   "outputs": [
    {
     "data": {
      "text/plain": [
       "[0.2, 2.0, 4.0, 3.0]"
      ]
     },
     "execution_count": 24,
     "metadata": {},
     "output_type": "execute_result"
    }
   ],
   "source": [
    "# using map as a normal function\n",
    "somelist = [1, 10, 20, 15]\n",
    "\n",
    "def divider(x):\n",
    "    y = x / 5\n",
    "    return y\n",
    "\n",
    "newlist = list(map(divider, somelist))\n",
    "newlist"
   ]
  },
  {
   "cell_type": "code",
   "execution_count": 25,
   "id": "above-documentation",
   "metadata": {},
   "outputs": [
    {
     "data": {
      "text/plain": [
       "[0.2, 2.0, 4.0, 3.0]"
      ]
     },
     "execution_count": 25,
     "metadata": {},
     "output_type": "execute_result"
    }
   ],
   "source": [
    "somelist = [1, 10, 20, 15]\n",
    "newlist = list(map(lambda x: x / 5, somelist))\n",
    "newlist"
   ]
  },
  {
   "cell_type": "code",
   "execution_count": 26,
   "id": "classical-extension",
   "metadata": {},
   "outputs": [
    {
     "data": {
      "text/plain": [
       "(0.2, 2.0, 4.0, 3.0)"
      ]
     },
     "execution_count": 26,
     "metadata": {},
     "output_type": "execute_result"
    }
   ],
   "source": [
    "num_tuple = (1, 10, 20, 15)\n",
    "new_tuple = tuple(map(lambda x: x / 5, num_tuple))\n",
    "new_tuple"
   ]
  },
  {
   "cell_type": "code",
   "execution_count": 27,
   "id": "essential-structure",
   "metadata": {},
   "outputs": [
    {
     "data": {
      "text/plain": [
       "[91, 82, 73, 64]"
      ]
     },
     "execution_count": 27,
     "metadata": {},
     "output_type": "execute_result"
    }
   ],
   "source": [
    "list_one = [1, 2, 3, 4]\n",
    "list_two = [90, 80, 70, 60]\n",
    "\n",
    "new_list = map(lambda x, y: x + y, list_one, list_two)\n",
    "list(new_list)"
   ]
  },
  {
   "cell_type": "markdown",
   "id": "exact-victory",
   "metadata": {},
   "source": [
    "## Filter"
   ]
  },
  {
   "cell_type": "code",
   "execution_count": 28,
   "id": "hourly-blade",
   "metadata": {},
   "outputs": [
    {
     "data": {
      "text/plain": [
       "[53, 72, 99]"
      ]
     },
     "execution_count": 28,
     "metadata": {},
     "output_type": "execute_result"
    }
   ],
   "source": [
    "my_list = [1, 14, 53, 72, 22, 99]\n",
    "filtered_list = filter(lambda x: x >= 50, my_list)\n",
    "list(filtered_list)"
   ]
  },
  {
   "cell_type": "markdown",
   "id": "clinical-footage",
   "metadata": {},
   "source": [
    "## Generators"
   ]
  },
  {
   "cell_type": "markdown",
   "id": "loved-spare",
   "metadata": {},
   "source": [
    "Generators - `yield` instead of return. Return terminates local variables, yield 'pauses'.\n",
    "\n",
    "See - [How do python generators work?](https://towardsdatascience.com/cpython-internals-how-do-generators-work-ba1c4405b4bc)"
   ]
  },
  {
   "cell_type": "code",
   "execution_count": 29,
   "id": "macro-camel",
   "metadata": {},
   "outputs": [
    {
     "data": {
      "text/plain": [
       "<generator object a at 0xffffab9637d0>"
      ]
     },
     "execution_count": 29,
     "metadata": {},
     "output_type": "execute_result"
    }
   ],
   "source": [
    "def a():\n",
    "    x = 5\n",
    "    yield x\n",
    "a()"
   ]
  },
  {
   "cell_type": "code",
   "execution_count": 30,
   "id": "seven-asset",
   "metadata": {},
   "outputs": [
    {
     "name": "stdout",
     "output_type": "stream",
     "text": [
      "5\n",
      "6\n"
     ]
    },
    {
     "ename": "StopIteration",
     "evalue": "",
     "output_type": "error",
     "traceback": [
      "\u001b[0;31m---------------------------------------------------------------------------\u001b[0m",
      "\u001b[0;31mStopIteration\u001b[0m                             Traceback (most recent call last)",
      "Cell \u001b[0;32mIn[30], line 9\u001b[0m\n\u001b[1;32m      7\u001b[0m \u001b[38;5;28mprint\u001b[39m(\u001b[38;5;28mnext\u001b[39m(example))\n\u001b[1;32m      8\u001b[0m \u001b[38;5;28mprint\u001b[39m(\u001b[38;5;28mnext\u001b[39m(example))\n\u001b[0;32m----> 9\u001b[0m \u001b[38;5;28mprint\u001b[39m(\u001b[38;5;28;43mnext\u001b[39;49m\u001b[43m(\u001b[49m\u001b[43mexample\u001b[49m\u001b[43m)\u001b[49m)\n",
      "\u001b[0;31mStopIteration\u001b[0m: "
     ]
    }
   ],
   "source": [
    "def a():\n",
    "    x = 5\n",
    "    yield x\n",
    "    x += 1\n",
    "    yield x\n",
    "example = a()\n",
    "print(next(example))\n",
    "print(next(example))\n",
    "print(next(example))"
   ]
  },
  {
   "cell_type": "code",
   "execution_count": 31,
   "id": "c673ddbb-b441-4911-bf14-9baddff6d6e3",
   "metadata": {},
   "outputs": [],
   "source": [
    "def generator_fn(x):\n",
    "    for i in range(x):\n",
    "        yield i"
   ]
  },
  {
   "cell_type": "code",
   "execution_count": 32,
   "id": "af9ab703-0677-4c7c-81c5-1076f53386bb",
   "metadata": {},
   "outputs": [
    {
     "data": {
      "text/plain": [
       "104"
      ]
     },
     "execution_count": 32,
     "metadata": {},
     "output_type": "execute_result"
    }
   ],
   "source": [
    "import sys\n",
    "sys.getsizeof(example)  # bytes"
   ]
  },
  {
   "cell_type": "code",
   "execution_count": 33,
   "id": "e9b35457-1535-4dcc-a114-87f5d56466f2",
   "metadata": {},
   "outputs": [],
   "source": [
    "g = generator_fn(100_000_000)"
   ]
  },
  {
   "cell_type": "code",
   "execution_count": 34,
   "id": "263c6dd4-7711-418f-9e04-82095bd0b4d8",
   "metadata": {},
   "outputs": [
    {
     "data": {
      "text/plain": [
       "['__class__',\n",
       " '__del__',\n",
       " '__delattr__',\n",
       " '__dir__',\n",
       " '__doc__',\n",
       " '__eq__',\n",
       " '__format__',\n",
       " '__ge__',\n",
       " '__getattribute__',\n",
       " '__gt__',\n",
       " '__hash__',\n",
       " '__init__',\n",
       " '__init_subclass__',\n",
       " '__iter__',\n",
       " '__le__',\n",
       " '__lt__',\n",
       " '__name__',\n",
       " '__ne__',\n",
       " '__new__',\n",
       " '__next__',\n",
       " '__qualname__',\n",
       " '__reduce__',\n",
       " '__reduce_ex__',\n",
       " '__repr__',\n",
       " '__setattr__',\n",
       " '__sizeof__',\n",
       " '__str__',\n",
       " '__subclasshook__',\n",
       " 'close',\n",
       " 'gi_code',\n",
       " 'gi_frame',\n",
       " 'gi_running',\n",
       " 'gi_yieldfrom',\n",
       " 'send',\n",
       " 'throw']"
      ]
     },
     "execution_count": 34,
     "metadata": {},
     "output_type": "execute_result"
    }
   ],
   "source": [
    "dir(g)"
   ]
  },
  {
   "cell_type": "code",
   "execution_count": 35,
   "id": "04224b19-60b8-4141-a39c-9d392fff6a33",
   "metadata": {},
   "outputs": [
    {
     "data": {
      "text/plain": [
       "0"
      ]
     },
     "execution_count": 35,
     "metadata": {},
     "output_type": "execute_result"
    }
   ],
   "source": [
    "next(g)"
   ]
  },
  {
   "cell_type": "code",
   "execution_count": 36,
   "id": "8c8543bf-482e-4a92-b17a-3253bc2f14ef",
   "metadata": {},
   "outputs": [
    {
     "data": {
      "text/plain": [
       "1"
      ]
     },
     "execution_count": 36,
     "metadata": {},
     "output_type": "execute_result"
    }
   ],
   "source": [
    "next(g)"
   ]
  },
  {
   "cell_type": "code",
   "execution_count": 37,
   "id": "f3d8cb38-ed41-483c-92bf-ecf4aed2ddc3",
   "metadata": {},
   "outputs": [
    {
     "data": {
      "text/plain": [
       "2"
      ]
     },
     "execution_count": 37,
     "metadata": {},
     "output_type": "execute_result"
    }
   ],
   "source": [
    "next(g)"
   ]
  },
  {
   "cell_type": "code",
   "execution_count": 38,
   "id": "cc8dc0aa-b374-4c8a-9929-0bdb448961f6",
   "metadata": {},
   "outputs": [
    {
     "name": "stdout",
     "output_type": "stream",
     "text": [
      "Help on generator object:\n",
      "\n",
      "generator_fn = class generator(object)\n",
      " |  Methods defined here:\n",
      " |  \n",
      " |  __del__(...)\n",
      " |  \n",
      " |  __getattribute__(self, name, /)\n",
      " |      Return getattr(self, name).\n",
      " |  \n",
      " |  __iter__(self, /)\n",
      " |      Implement iter(self).\n",
      " |  \n",
      " |  __next__(self, /)\n",
      " |      Implement next(self).\n",
      " |  \n",
      " |  __repr__(self, /)\n",
      " |      Return repr(self).\n",
      " |  \n",
      " |  close(...)\n",
      " |      close() -> raise GeneratorExit inside generator.\n",
      " |  \n",
      " |  send(...)\n",
      " |      send(arg) -> send 'arg' into generator,\n",
      " |      return next yielded value or raise StopIteration.\n",
      " |  \n",
      " |  throw(...)\n",
      " |      throw(value)\n",
      " |      throw(type[,value[,tb]])\n",
      " |      \n",
      " |      Raise exception in generator, return next yielded value or raise\n",
      " |      StopIteration.\n",
      " |  \n",
      " |  ----------------------------------------------------------------------\n",
      " |  Data descriptors defined here:\n",
      " |  \n",
      " |  gi_code\n",
      " |  \n",
      " |  gi_frame\n",
      " |  \n",
      " |  gi_running\n",
      " |  \n",
      " |  gi_yieldfrom\n",
      " |      object being iterated by yield from, or None\n",
      "\n"
     ]
    }
   ],
   "source": [
    "help(g)"
   ]
  },
  {
   "cell_type": "markdown",
   "id": "3cda98eb-2739-4497-a6ac-035578e79f7b",
   "metadata": {},
   "source": [
    "### Nested Generators"
   ]
  },
  {
   "cell_type": "code",
   "execution_count": 39,
   "id": "d63aeb6c-cbac-4ea7-94c3-ebbf29ffc600",
   "metadata": {},
   "outputs": [],
   "source": [
    "def inner():\n",
    "  print(\"We're inside\")\n",
    "  value = yield 2\n",
    "  print(\"Received\", value)\n",
    "  return 4\n",
    "\n",
    "def outer():\n",
    "  yield 1\n",
    "  retval = yield from inner()\n",
    "  print(\"Returned\", retval)\n",
    "  yield 5"
   ]
  },
  {
   "cell_type": "code",
   "execution_count": 40,
   "id": "d4773a70-57ed-4986-8220-5533b401493e",
   "metadata": {},
   "outputs": [],
   "source": [
    "g = outer()"
   ]
  },
  {
   "cell_type": "code",
   "execution_count": 41,
   "id": "8005b71b-f0e5-4161-b23d-ba45ae16dff7",
   "metadata": {},
   "outputs": [
    {
     "data": {
      "text/plain": [
       "1"
      ]
     },
     "execution_count": 41,
     "metadata": {},
     "output_type": "execute_result"
    }
   ],
   "source": [
    "next(g)"
   ]
  },
  {
   "cell_type": "code",
   "execution_count": 42,
   "id": "00201c98-1920-484f-8110-6335df5fb4f2",
   "metadata": {},
   "outputs": [
    {
     "name": "stdout",
     "output_type": "stream",
     "text": [
      "We're inside\n"
     ]
    },
    {
     "data": {
      "text/plain": [
       "2"
      ]
     },
     "execution_count": 42,
     "metadata": {},
     "output_type": "execute_result"
    }
   ],
   "source": [
    "next(g)"
   ]
  },
  {
   "cell_type": "code",
   "execution_count": 43,
   "id": "6ef9a436-33ee-4b94-92d7-eccc50fdc512",
   "metadata": {},
   "outputs": [
    {
     "name": "stdout",
     "output_type": "stream",
     "text": [
      "Received 3\n",
      "Returned 4\n"
     ]
    },
    {
     "data": {
      "text/plain": [
       "5"
      ]
     },
     "execution_count": 43,
     "metadata": {},
     "output_type": "execute_result"
    }
   ],
   "source": [
    "g.send(3)"
   ]
  },
  {
   "cell_type": "markdown",
   "id": "a08e382e-b34e-4ffa-b1c1-cef012f90861",
   "metadata": {},
   "source": [
    "### Generator vs. List Comprehension"
   ]
  },
  {
   "cell_type": "code",
   "execution_count": 44,
   "id": "0a9b7a19-4ac5-4150-afbf-ce01ad0f5a7f",
   "metadata": {},
   "outputs": [],
   "source": [
    "import time"
   ]
  },
  {
   "cell_type": "code",
   "execution_count": 45,
   "id": "cf0f912d-56cc-414f-b7e4-614c33290f90",
   "metadata": {},
   "outputs": [],
   "source": [
    "n = 100_000_000"
   ]
  },
  {
   "cell_type": "code",
   "execution_count": 46,
   "id": "124ca4da-2661-4117-be7f-554250c6d2e1",
   "metadata": {},
   "outputs": [
    {
     "name": "stdout",
     "output_type": "stream",
     "text": [
      "<class 'list'>\n",
      "4.3685\n"
     ]
    }
   ],
   "source": [
    "start = time.time()\n",
    "x = [i*i for i in range(n)]\n",
    "end = time.time()\n",
    "print(type(x))\n",
    "print(\"{:.4f}\".format(end - start))"
   ]
  },
  {
   "cell_type": "code",
   "execution_count": 47,
   "id": "90a8fc84-4899-4734-a8fb-839245045c4a",
   "metadata": {},
   "outputs": [
    {
     "name": "stdout",
     "output_type": "stream",
     "text": [
      "<class 'generator'>\n",
      "0.0001\n"
     ]
    }
   ],
   "source": [
    "start = time.time()\n",
    "g = (i*i for i in range(n))\n",
    "end = time.time()\n",
    "print(type(g))\n",
    "print(\"{:.4f}\".format(end - start))"
   ]
  }
 ],
 "metadata": {
  "kernelspec": {
   "display_name": "Python 3 (ipykernel)",
   "language": "python",
   "name": "python3"
  },
  "language_info": {
   "codemirror_mode": {
    "name": "ipython",
    "version": 3
   },
   "file_extension": ".py",
   "mimetype": "text/x-python",
   "name": "python",
   "nbconvert_exporter": "python",
   "pygments_lexer": "ipython3",
   "version": "3.11.4"
  }
 },
 "nbformat": 4,
 "nbformat_minor": 5
}
